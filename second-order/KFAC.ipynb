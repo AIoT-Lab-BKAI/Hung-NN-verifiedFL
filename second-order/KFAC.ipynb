{
 "cells": [
  {
   "cell_type": "code",
   "execution_count": 46,
   "metadata": {},
   "outputs": [],
   "source": [
    "from fmodule import FModule\n",
    "import torch.nn as nn\n",
    "import torch.nn.functional as F\n",
    "import torch\n",
    "\n",
    "class MLP(FModule):\n",
    "    def __init__(self, bias=False):\n",
    "        super().__init__()\n",
    "        self.fc1 = nn.Linear(784, 128, bias=bias)\n",
    "        self.fc2 = nn.Linear(128, 10, bias=bias)\n",
    "\n",
    "    def forward(self, x):\n",
    "        self.a0 = x.view(x.shape[0], -1)\n",
    "        self.s1 = self.fc1(self.a0)\n",
    "        self.a1 = F.relu(self.s1)\n",
    "        self.s2 = self.fc2(self.a1)\n",
    "        self.FIM_params = [self.s1, self.s2]\n",
    "        return self.s2"
   ]
  },
  {
   "cell_type": "code",
   "execution_count": 134,
   "metadata": {},
   "outputs": [],
   "source": [
    "X = torch.randn((1, 28, 28))\n",
    "Y = torch.randint(0, 1, [1])\n",
    "\n",
    "loss_func = F.mse_loss"
   ]
  },
  {
   "cell_type": "code",
   "execution_count": 135,
   "metadata": {},
   "outputs": [],
   "source": [
    "model = MLP()"
   ]
  },
  {
   "cell_type": "code",
   "execution_count": null,
   "metadata": {},
   "outputs": [],
   "source": [
    "def inverse(input):\n",
    "    try:\n",
    "        res = torch.linalg.inv(input + torch.eye(input.shape[0]) * 0.01)\n",
    "    except:\n",
    "        res = torch.linalg.inv(input + torch.eye(input.shape[0]) * 0.1)\n",
    "    return res\n",
    "\n",
    "def compute_natural_grads(model:MLP, X:torch.Tensor, Y:torch.Tensor, loss_fn=F.kl_div):\n",
    "    pred = model(X)\n",
    "    loss = loss_func(pred, F.one_hot(Y, 10) * 1.0)\n",
    "    \n",
    "    grads = torch.autograd.grad(loss, [*model.FIM_params, *model.parameters()], create_graph=False, retain_graph=False)\n",
    "    g1, g2, dw1, dw2 = grads\n",
    "    a0, a1 = model.a0, model.a1\n",
    "    \n",
    "    A0 = torch.mean(a0.unsqueeze(2) @ a0.unsqueeze(2).transpose(1,2), dim=0)\n",
    "    A1 = torch.mean(a1.unsqueeze(2) @ a1.unsqueeze(2).transpose(1,2), dim=0)\n",
    "    G1 = torch.mean(g1.unsqueeze(2) @ g1.unsqueeze(2).transpose(1,2), dim=0)\n",
    "    G2 = torch.mean(g2.unsqueeze(2) @ g2.unsqueeze(2).transpose(1,2), dim=0)\n",
    "    \n",
    "    natural_grads = [\n",
    "        inverse(G1) @ dw1 @ inverse(A0),\n",
    "        inverse(G2) @ dw2 @ inverse(A1),\n",
    "    ]\n",
    "    \n",
    "    return natural_grads"
   ]
  }
 ],
 "metadata": {
  "kernelspec": {
   "display_name": "longnd",
   "language": "python",
   "name": "python3"
  },
  "language_info": {
   "codemirror_mode": {
    "name": "ipython",
    "version": 3
   },
   "file_extension": ".py",
   "mimetype": "text/x-python",
   "name": "python",
   "nbconvert_exporter": "python",
   "pygments_lexer": "ipython3",
   "version": "3.8.12 | packaged by conda-forge | (default, Oct 12 2021, 21:57:06) \n[GCC 9.4.0]"
  },
  "orig_nbformat": 4,
  "vscode": {
   "interpreter": {
    "hash": "9f784b053654bb8129a3cb1aa1762d7834caeb9ba8691a85058f59d7796858ce"
   }
  }
 },
 "nbformat": 4,
 "nbformat_minor": 2
}
